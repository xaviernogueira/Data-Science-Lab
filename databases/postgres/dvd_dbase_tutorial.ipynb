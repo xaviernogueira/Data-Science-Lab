{
 "cells": [
  {
   "cell_type": "markdown",
   "id": "1c04776a-63a4-4c10-851c-34385f78691d",
   "metadata": {},
   "source": [
    "# PostgreSQL Tutorial\n",
    "\n",
    "Here we will walk thru the Postgres Tutorial and practice my SQL queries.\n",
    "\n",
    "**dBase:** Sample DVD database from [Postgres Tutorial](https://www.postgresqltutorial.com/postgresql-getting-started/load-postgresql-sample-database/). The TARball file is stored in `/sample_data` and must be used to create a `dvdrental` Postgres database."
   ]
  },
  {
   "cell_type": "code",
   "execution_count": 1,
   "id": "9e318c40-dc6d-442a-af21-f884dd78263f",
   "metadata": {},
   "outputs": [],
   "source": [
    "import os\n",
    "import psycopg2\n",
    "import pandas as pd"
   ]
  },
  {
   "cell_type": "code",
   "execution_count": 2,
   "id": "d2a2c673-f573-4f41-8592-f66b5ff9c428",
   "metadata": {},
   "outputs": [],
   "source": [
    "%load_ext sql\n",
    "# this magic command loads SQL for notebook cells"
   ]
  },
  {
   "cell_type": "markdown",
   "id": "76d6b0f4-acad-4996-8cfe-dfa89002d71a",
   "metadata": {},
   "source": [
    "# Connect to the database\n",
    "\n",
    "In a notebook there are two main options.\n",
    "1. Get a `psycopg2.extensions.connection` object instantated, and pass it into a client library like `pandas` via [`pd.read_sql_query`](https://pandas.pydata.org/docs/reference/api/pandas.read_sql_query.html) or `polars` via [`polars.read_database`](https://pola-rs.github.io/polars/py-polars/html/reference/api/polars.read_database.html).\n",
    "2. Use [`%sqlcmd connect`](https://jupysql.ploomber.io/en/latest/api/magic-connect.html) cell magic to establish a connection, and then just use `%sql`."
   ]
  },
  {
   "cell_type": "code",
   "execution_count": 4,
   "id": "ed51eec6-33e9-44c5-8d30-f192cf0001e4",
   "metadata": {},
   "outputs": [
    {
     "data": {
      "application/vnd.jupyter.widget-view+json": {
       "model_id": "845fe0ac04a948b79dc6ac059acfdd73",
       "version_major": 2,
       "version_minor": 0
      },
      "text/plain": [
       "ConnectorWidget(connections='[]', connections_templates='{\"DuckDB\": {\"driver\": \"duckdb\", \"fields\": [{\"id\": \"co…"
      ]
     },
     "execution_count": 4,
     "metadata": {},
     "output_type": "execute_result"
    }
   ],
   "source": [
    "%sqlcmd connect"
   ]
  },
  {
   "cell_type": "code",
   "execution_count": null,
   "id": "4adf5617-7366-4edc-8a09-d2a864b8b8c1",
   "metadata": {},
   "outputs": [],
   "source": [
    "# option 1\n",
    "dbase_connection: psycopg2.extensions.connection = psycopg2.connect(\n",
    "    host='localhost',\n",
    "    port=5432,\n",
    "    dbname='dvdrental',\n",
    "    user='postgres',\n",
    "   password=os.environ['PG_PASSWORD'],\n",
    ")"
   ]
  },
  {
   "cell_type": "code",
   "execution_count": 19,
   "id": "2c2df014-0215-4e6e-b4c1-f4d854cf2718",
   "metadata": {},
   "outputs": [
    {
     "data": {
      "text/html": [
       "<span style=\"None\">Running query in &#x27;default&#x27;</span>"
      ],
      "text/plain": [
       "Running query in 'default'"
      ]
     },
     "metadata": {},
     "output_type": "display_data"
    },
    {
     "data": {
      "text/html": [
       "<span style=\"color: green\">16 rows affected.</span>"
      ],
      "text/plain": [
       "16 rows affected."
      ]
     },
     "metadata": {},
     "output_type": "display_data"
    },
    {
     "data": {
      "text/html": [
       "<table>\n",
       "    <thead>\n",
       "        <tr>\n",
       "            <th>category_id</th>\n",
       "            <th>name</th>\n",
       "            <th>last_update</th>\n",
       "        </tr>\n",
       "    </thead>\n",
       "    <tbody>\n",
       "        <tr>\n",
       "            <td>1</td>\n",
       "            <td>Action</td>\n",
       "            <td>2006-02-15 09:46:27</td>\n",
       "        </tr>\n",
       "        <tr>\n",
       "            <td>2</td>\n",
       "            <td>Animation</td>\n",
       "            <td>2006-02-15 09:46:27</td>\n",
       "        </tr>\n",
       "        <tr>\n",
       "            <td>3</td>\n",
       "            <td>Children</td>\n",
       "            <td>2006-02-15 09:46:27</td>\n",
       "        </tr>\n",
       "        <tr>\n",
       "            <td>4</td>\n",
       "            <td>Classics</td>\n",
       "            <td>2006-02-15 09:46:27</td>\n",
       "        </tr>\n",
       "        <tr>\n",
       "            <td>5</td>\n",
       "            <td>Comedy</td>\n",
       "            <td>2006-02-15 09:46:27</td>\n",
       "        </tr>\n",
       "        <tr>\n",
       "            <td>6</td>\n",
       "            <td>Documentary</td>\n",
       "            <td>2006-02-15 09:46:27</td>\n",
       "        </tr>\n",
       "        <tr>\n",
       "            <td>7</td>\n",
       "            <td>Drama</td>\n",
       "            <td>2006-02-15 09:46:27</td>\n",
       "        </tr>\n",
       "        <tr>\n",
       "            <td>8</td>\n",
       "            <td>Family</td>\n",
       "            <td>2006-02-15 09:46:27</td>\n",
       "        </tr>\n",
       "        <tr>\n",
       "            <td>9</td>\n",
       "            <td>Foreign</td>\n",
       "            <td>2006-02-15 09:46:27</td>\n",
       "        </tr>\n",
       "        <tr>\n",
       "            <td>10</td>\n",
       "            <td>Games</td>\n",
       "            <td>2006-02-15 09:46:27</td>\n",
       "        </tr>\n",
       "    </tbody>\n",
       "</table>\n",
       "<span style=\"font-style:italic;text-align:center;\">Truncated to <a href=\"https://jupysql.ploomber.io/en/latest/api/configuration.html#displaylimit\">displaylimit</a> of 10.</span>"
      ],
      "text/plain": [
       "+-------------+-------------+---------------------+\n",
       "| category_id |     name    |     last_update     |\n",
       "+-------------+-------------+---------------------+\n",
       "|      1      |    Action   | 2006-02-15 09:46:27 |\n",
       "|      2      |  Animation  | 2006-02-15 09:46:27 |\n",
       "|      3      |   Children  | 2006-02-15 09:46:27 |\n",
       "|      4      |   Classics  | 2006-02-15 09:46:27 |\n",
       "|      5      |    Comedy   | 2006-02-15 09:46:27 |\n",
       "|      6      | Documentary | 2006-02-15 09:46:27 |\n",
       "|      7      |    Drama    | 2006-02-15 09:46:27 |\n",
       "|      8      |    Family   | 2006-02-15 09:46:27 |\n",
       "|      9      |   Foreign   | 2006-02-15 09:46:27 |\n",
       "|      10     |    Games    | 2006-02-15 09:46:27 |\n",
       "+-------------+-------------+---------------------+\n",
       "Truncated to displaylimit of 10."
      ]
     },
     "execution_count": 19,
     "metadata": {},
     "output_type": "execute_result"
    }
   ],
   "source": [
    "%%sql \n",
    "    SELECT *\n",
    "    FROM category LIMIT 100;"
   ]
  },
  {
   "cell_type": "code",
   "execution_count": 25,
   "id": "90d8321d-fcf0-4197-a141-870f3c42e2a0",
   "metadata": {},
   "outputs": [
    {
     "data": {
      "text/html": [
       "<span style=\"None\">Running query in &#x27;default&#x27;</span>"
      ],
      "text/plain": [
       "Running query in 'default'"
      ]
     },
     "metadata": {},
     "output_type": "display_data"
    },
    {
     "data": {
      "text/html": [
       "<span style=\"color: green\">16 rows affected.</span>"
      ],
      "text/plain": [
       "16 rows affected."
      ]
     },
     "metadata": {},
     "output_type": "display_data"
    },
    {
     "data": {
      "text/html": [
       "<table>\n",
       "    <thead>\n",
       "        <tr>\n",
       "            <th>category_id</th>\n",
       "            <th>category_name</th>\n",
       "            <th>last_update</th>\n",
       "        </tr>\n",
       "    </thead>\n",
       "    <tbody>\n",
       "        <tr>\n",
       "            <td>1</td>\n",
       "            <td>Action</td>\n",
       "            <td>2006-02-15 09:46:27</td>\n",
       "        </tr>\n",
       "        <tr>\n",
       "            <td>2</td>\n",
       "            <td>Animation</td>\n",
       "            <td>2006-02-15 09:46:27</td>\n",
       "        </tr>\n",
       "        <tr>\n",
       "            <td>3</td>\n",
       "            <td>Children</td>\n",
       "            <td>2006-02-15 09:46:27</td>\n",
       "        </tr>\n",
       "        <tr>\n",
       "            <td>4</td>\n",
       "            <td>Classics</td>\n",
       "            <td>2006-02-15 09:46:27</td>\n",
       "        </tr>\n",
       "        <tr>\n",
       "            <td>5</td>\n",
       "            <td>Comedy</td>\n",
       "            <td>2006-02-15 09:46:27</td>\n",
       "        </tr>\n",
       "        <tr>\n",
       "            <td>6</td>\n",
       "            <td>Documentary</td>\n",
       "            <td>2006-02-15 09:46:27</td>\n",
       "        </tr>\n",
       "        <tr>\n",
       "            <td>7</td>\n",
       "            <td>Drama</td>\n",
       "            <td>2006-02-15 09:46:27</td>\n",
       "        </tr>\n",
       "        <tr>\n",
       "            <td>8</td>\n",
       "            <td>Family</td>\n",
       "            <td>2006-02-15 09:46:27</td>\n",
       "        </tr>\n",
       "        <tr>\n",
       "            <td>9</td>\n",
       "            <td>Foreign</td>\n",
       "            <td>2006-02-15 09:46:27</td>\n",
       "        </tr>\n",
       "        <tr>\n",
       "            <td>10</td>\n",
       "            <td>Games</td>\n",
       "            <td>2006-02-15 09:46:27</td>\n",
       "        </tr>\n",
       "    </tbody>\n",
       "</table>\n",
       "<span style=\"font-style:italic;text-align:center;\">Truncated to <a href=\"https://jupysql.ploomber.io/en/latest/api/configuration.html#displaylimit\">displaylimit</a> of 10.</span>"
      ],
      "text/plain": [
       "+-------------+---------------+---------------------+\n",
       "| category_id | category_name |     last_update     |\n",
       "+-------------+---------------+---------------------+\n",
       "|      1      |     Action    | 2006-02-15 09:46:27 |\n",
       "|      2      |   Animation   | 2006-02-15 09:46:27 |\n",
       "|      3      |    Children   | 2006-02-15 09:46:27 |\n",
       "|      4      |    Classics   | 2006-02-15 09:46:27 |\n",
       "|      5      |     Comedy    | 2006-02-15 09:46:27 |\n",
       "|      6      |  Documentary  | 2006-02-15 09:46:27 |\n",
       "|      7      |     Drama     | 2006-02-15 09:46:27 |\n",
       "|      8      |     Family    | 2006-02-15 09:46:27 |\n",
       "|      9      |    Foreign    | 2006-02-15 09:46:27 |\n",
       "|      10     |     Games     | 2006-02-15 09:46:27 |\n",
       "+-------------+---------------+---------------------+\n",
       "Truncated to displaylimit of 10."
      ]
     },
     "execution_count": 25,
     "metadata": {},
     "output_type": "execute_result"
    }
   ],
   "source": [
    "%%sql \n",
    "    SELECT category_id, name AS category_name, last_update\n",
    "    FROM category \n",
    "    ORDER BY category_name ASC\n",
    "    LIMIT 100;"
   ]
  },
  {
   "cell_type": "code",
   "execution_count": null,
   "id": "f9e7db0e-a291-4dfd-a19d-9e8a61889766",
   "metadata": {},
   "outputs": [],
   "source": []
  }
 ],
 "metadata": {
  "kernelspec": {
   "display_name": "Python 3 (ipykernel)",
   "language": "python",
   "name": "python3"
  },
  "language_info": {
   "codemirror_mode": {
    "name": "ipython",
    "version": 3
   },
   "file_extension": ".py",
   "mimetype": "text/x-python",
   "name": "python",
   "nbconvert_exporter": "python",
   "pygments_lexer": "ipython3",
   "version": "3.11.0rc1"
  },
  "widgets": {
   "application/vnd.jupyter.widget-state+json": {
    "state": {
     "3e64b0872d5545c1908c2c2027350738": {
      "model_module": "jupysql-plugin",
      "model_module_version": "0.2.6",
      "model_name": "ConnectorModel",
      "state": {
       "_view_name": "ConnectorView",
       "connections": "[]",
       "connections_templates": "{\"DuckDB\": {\"driver\": \"duckdb\", \"fields\": [{\"id\": \"connectionName\", \"label\": \"Connection alias\", \"type\": \"text\", \"default\": \"duckdb\"}, {\"id\": \"database\", \"label\": \"Path to database\", \"type\": \"text\", \"default\": \":memory:\"}]}, \"SQLite\": {\"driver\": \"sqlite\", \"fields\": [{\"id\": \"connectionName\", \"label\": \"Connection alias\", \"type\": \"text\", \"default\": \"sqlite\"}, {\"id\": \"database\", \"label\": \"Path to database\", \"type\": \"text\", \"default\": \":memory:\"}]}, \"PostgreSQL\": {\"driver\": \"postgresql\", \"fields\": [{\"id\": \"connectionName\", \"label\": \"Connection alias\", \"type\": \"text\", \"default\": \"postgresql\"}, {\"id\": \"username\", \"label\": \"Username\", \"type\": \"text\"}, {\"id\": \"password\", \"label\": \"Password\", \"type\": \"password\"}, {\"id\": \"host\", \"label\": \"Host\", \"type\": \"text\"}, {\"id\": \"database\", \"label\": \"Database\", \"type\": \"text\"}, {\"id\": \"port\", \"label\": \"Port\", \"type\": \"number\", \"default\": 5432}]}, \"MySQL\": {\"driver\": \"mysql+pymysql\", \"fields\": [{\"id\": \"connectionName\", \"label\": \"Connection alias\", \"type\": \"text\", \"default\": \"mysql\"}, {\"id\": \"username\", \"label\": \"Username\", \"type\": \"text\"}, {\"id\": \"password\", \"label\": \"Password\", \"type\": \"password\"}, {\"id\": \"host\", \"label\": \"Host\", \"type\": \"text\"}, {\"id\": \"port\", \"label\": \"Port\", \"type\": \"number\", \"default\": 3306}, {\"id\": \"database\", \"label\": \"Database\", \"type\": \"text\"}]}, \"MariaDB\": {\"driver\": \"mysql+pymysql\", \"fields\": [{\"id\": \"connectionName\", \"label\": \"Connection alias\", \"type\": \"text\", \"default\": \"mariadb\"}, {\"id\": \"username\", \"label\": \"Username\", \"type\": \"text\"}, {\"id\": \"password\", \"label\": \"Password\", \"type\": \"password\"}, {\"id\": \"host\", \"label\": \"Host\", \"type\": \"text\"}, {\"id\": \"port\", \"label\": \"Port\", \"type\": \"number\", \"default\": 3306}, {\"id\": \"database\", \"label\": \"Database\", \"type\": \"text\"}]}, \"Snowflake\": {\"driver\": \"snowflake\", \"fields\": [{\"id\": \"connectionName\", \"label\": \"Connection alias\", \"type\": \"text\", \"default\": \"snowflake\"}, {\"id\": \"username\", \"label\": \"Username\", \"type\": \"text\"}, {\"id\": \"password\", \"label\": \"Password\", \"type\": \"password\"}, {\"id\": \"host\", \"label\": \"Host\", \"type\": \"text\"}, {\"id\": \"port\", \"label\": \"Port\", \"type\": \"number\", \"default\": 443}, {\"id\": \"database\", \"label\": \"Database\", \"type\": \"text\"}]}, \"Oracle\": {\"driver\": \"oracle+oracledb\", \"fields\": [{\"id\": \"connectionName\", \"label\": \"Connection alias\", \"type\": \"text\", \"default\": \"oracle\"}, {\"id\": \"username\", \"label\": \"Username\", \"type\": \"text\"}, {\"id\": \"password\", \"label\": \"Password\", \"type\": \"password\"}, {\"id\": \"host\", \"label\": \"Host\", \"type\": \"text\"}, {\"id\": \"database\", \"label\": \"Database\", \"type\": \"text\"}, {\"id\": \"port\", \"label\": \"Port\", \"type\": \"number\", \"default\": 1521}]}, \"MSSQL\": {\"driver\": \"mssql+pyodbc\", \"fields\": [{\"id\": \"connectionName\", \"label\": \"Connection alias\", \"type\": \"text\", \"default\": \"mssql\"}, {\"id\": \"username\", \"label\": \"Username\", \"type\": \"text\"}, {\"id\": \"password\", \"label\": \"Password\", \"type\": \"password\"}, {\"id\": \"host\", \"label\": \"Host\", \"type\": \"text\"}, {\"id\": \"database\", \"label\": \"Database\", \"type\": \"text\"}, {\"id\": \"port\", \"label\": \"Port\", \"type\": \"number\", \"default\": 1433}]}, \"Redshift\": {\"driver\": \"redshift+redshift_connector\", \"fields\": [{\"id\": \"connectionName\", \"label\": \"Connection alias\", \"type\": \"text\", \"default\": \"redshift\"}, {\"id\": \"username\", \"label\": \"Username\", \"type\": \"text\"}, {\"id\": \"password\", \"label\": \"Password\", \"type\": \"password\"}, {\"id\": \"host\", \"label\": \"Host\", \"type\": \"text\"}, {\"id\": \"database\", \"label\": \"Database\", \"type\": \"text\"}, {\"id\": \"port\", \"label\": \"Port\", \"type\": \"number\", \"default\": 5439}]}}",
       "driver_to_dbname": {
        "duckdb": "DuckDB",
        "mariadb": "MariaDB",
        "mssql+pyodbc": "MSSQL",
        "mysql+pymysql": "MySQL",
        "oracle+oracledb": "Oracle",
        "postgresql": "PostgreSQL",
        "redshift+redshift_connector": "Redshift",
        "snowflake": "Snowflake",
        "sqlite": "SQLite"
       },
       "layout": "IPY_MODEL_84f595ba11f54ec58dd1ea33db9b61b4"
      }
     },
     "4be79ed736d9455ab129c5a2d3c257aa": {
      "model_module": "@jupyter-widgets/base",
      "model_module_version": "2.0.0",
      "model_name": "LayoutModel",
      "state": {}
     },
     "845fe0ac04a948b79dc6ac059acfdd73": {
      "model_module": "jupysql-plugin",
      "model_module_version": "0.2.6",
      "model_name": "ConnectorModel",
      "state": {
       "_view_name": "ConnectorView",
       "connections": "[]",
       "connections_templates": "{\"DuckDB\": {\"driver\": \"duckdb\", \"fields\": [{\"id\": \"connectionName\", \"label\": \"Connection alias\", \"type\": \"text\", \"default\": \"duckdb\"}, {\"id\": \"database\", \"label\": \"Path to database\", \"type\": \"text\", \"default\": \":memory:\"}]}, \"SQLite\": {\"driver\": \"sqlite\", \"fields\": [{\"id\": \"connectionName\", \"label\": \"Connection alias\", \"type\": \"text\", \"default\": \"sqlite\"}, {\"id\": \"database\", \"label\": \"Path to database\", \"type\": \"text\", \"default\": \":memory:\"}]}, \"PostgreSQL\": {\"driver\": \"postgresql\", \"fields\": [{\"id\": \"connectionName\", \"label\": \"Connection alias\", \"type\": \"text\", \"default\": \"postgresql\"}, {\"id\": \"username\", \"label\": \"Username\", \"type\": \"text\"}, {\"id\": \"password\", \"label\": \"Password\", \"type\": \"password\"}, {\"id\": \"host\", \"label\": \"Host\", \"type\": \"text\"}, {\"id\": \"database\", \"label\": \"Database\", \"type\": \"text\"}, {\"id\": \"port\", \"label\": \"Port\", \"type\": \"number\", \"default\": 5432}]}, \"MySQL\": {\"driver\": \"mysql+pymysql\", \"fields\": [{\"id\": \"connectionName\", \"label\": \"Connection alias\", \"type\": \"text\", \"default\": \"mysql\"}, {\"id\": \"username\", \"label\": \"Username\", \"type\": \"text\"}, {\"id\": \"password\", \"label\": \"Password\", \"type\": \"password\"}, {\"id\": \"host\", \"label\": \"Host\", \"type\": \"text\"}, {\"id\": \"port\", \"label\": \"Port\", \"type\": \"number\", \"default\": 3306}, {\"id\": \"database\", \"label\": \"Database\", \"type\": \"text\"}]}, \"MariaDB\": {\"driver\": \"mysql+pymysql\", \"fields\": [{\"id\": \"connectionName\", \"label\": \"Connection alias\", \"type\": \"text\", \"default\": \"mariadb\"}, {\"id\": \"username\", \"label\": \"Username\", \"type\": \"text\"}, {\"id\": \"password\", \"label\": \"Password\", \"type\": \"password\"}, {\"id\": \"host\", \"label\": \"Host\", \"type\": \"text\"}, {\"id\": \"port\", \"label\": \"Port\", \"type\": \"number\", \"default\": 3306}, {\"id\": \"database\", \"label\": \"Database\", \"type\": \"text\"}]}, \"Snowflake\": {\"driver\": \"snowflake\", \"fields\": [{\"id\": \"connectionName\", \"label\": \"Connection alias\", \"type\": \"text\", \"default\": \"snowflake\"}, {\"id\": \"username\", \"label\": \"Username\", \"type\": \"text\"}, {\"id\": \"password\", \"label\": \"Password\", \"type\": \"password\"}, {\"id\": \"host\", \"label\": \"Host\", \"type\": \"text\"}, {\"id\": \"port\", \"label\": \"Port\", \"type\": \"number\", \"default\": 443}, {\"id\": \"database\", \"label\": \"Database\", \"type\": \"text\"}]}, \"Oracle\": {\"driver\": \"oracle+oracledb\", \"fields\": [{\"id\": \"connectionName\", \"label\": \"Connection alias\", \"type\": \"text\", \"default\": \"oracle\"}, {\"id\": \"username\", \"label\": \"Username\", \"type\": \"text\"}, {\"id\": \"password\", \"label\": \"Password\", \"type\": \"password\"}, {\"id\": \"host\", \"label\": \"Host\", \"type\": \"text\"}, {\"id\": \"database\", \"label\": \"Database\", \"type\": \"text\"}, {\"id\": \"port\", \"label\": \"Port\", \"type\": \"number\", \"default\": 1521}]}, \"MSSQL\": {\"driver\": \"mssql+pyodbc\", \"fields\": [{\"id\": \"connectionName\", \"label\": \"Connection alias\", \"type\": \"text\", \"default\": \"mssql\"}, {\"id\": \"username\", \"label\": \"Username\", \"type\": \"text\"}, {\"id\": \"password\", \"label\": \"Password\", \"type\": \"password\"}, {\"id\": \"host\", \"label\": \"Host\", \"type\": \"text\"}, {\"id\": \"database\", \"label\": \"Database\", \"type\": \"text\"}, {\"id\": \"port\", \"label\": \"Port\", \"type\": \"number\", \"default\": 1433}]}, \"Redshift\": {\"driver\": \"redshift+redshift_connector\", \"fields\": [{\"id\": \"connectionName\", \"label\": \"Connection alias\", \"type\": \"text\", \"default\": \"redshift\"}, {\"id\": \"username\", \"label\": \"Username\", \"type\": \"text\"}, {\"id\": \"password\", \"label\": \"Password\", \"type\": \"password\"}, {\"id\": \"host\", \"label\": \"Host\", \"type\": \"text\"}, {\"id\": \"database\", \"label\": \"Database\", \"type\": \"text\"}, {\"id\": \"port\", \"label\": \"Port\", \"type\": \"number\", \"default\": 5439}]}}",
       "driver_to_dbname": {
        "duckdb": "DuckDB",
        "mariadb": "MariaDB",
        "mssql+pyodbc": "MSSQL",
        "mysql+pymysql": "MySQL",
        "oracle+oracledb": "Oracle",
        "postgresql": "PostgreSQL",
        "redshift+redshift_connector": "Redshift",
        "snowflake": "Snowflake",
        "sqlite": "SQLite"
       },
       "layout": "IPY_MODEL_4be79ed736d9455ab129c5a2d3c257aa"
      }
     },
     "84f595ba11f54ec58dd1ea33db9b61b4": {
      "model_module": "@jupyter-widgets/base",
      "model_module_version": "2.0.0",
      "model_name": "LayoutModel",
      "state": {}
     }
    },
    "version_major": 2,
    "version_minor": 0
   }
  }
 },
 "nbformat": 4,
 "nbformat_minor": 5
}
