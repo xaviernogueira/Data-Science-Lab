{
 "cells": [
  {
   "cell_type": "markdown",
   "id": "1c04776a-63a4-4c10-851c-34385f78691d",
   "metadata": {},
   "source": [
    "# PostgreSQL Tutorial\n",
    "\n",
    "Here we will walk thru the Postgres Tutorial and practice my SQL queries.\n",
    "\n",
    "**dBase:** Sample DVD database from [Postgres Tutorial](https://www.postgresqltutorial.com/postgresql-getting-started/load-postgresql-sample-database/). The TARball file is stored in `/sample_data` and must be used to create a `dvdrental` Postgres database."
   ]
  },
  {
   "cell_type": "code",
   "execution_count": 1,
   "id": "9e318c40-dc6d-442a-af21-f884dd78263f",
   "metadata": {},
   "outputs": [],
   "source": [
    "import os\n",
    "import psycopg2\n",
    "import pandas as pd"
   ]
  },
  {
   "cell_type": "code",
   "execution_count": 2,
   "id": "d2a2c673-f573-4f41-8592-f66b5ff9c428",
   "metadata": {},
   "outputs": [],
   "source": [
    "%load_ext sql\n",
    "# this magic command loads SQL for notebook cells"
   ]
  },
  {
   "cell_type": "markdown",
   "id": "76d6b0f4-acad-4996-8cfe-dfa89002d71a",
   "metadata": {},
   "source": [
    "# Connect to the database\n",
    "\n",
    "In a notebook there are two main options.\n",
    "1. Get a `psycopg2.extensions.connection` object instantated, and pass it into a client library like `pandas` via [`pd.read_sql_query`](https://pandas.pydata.org/docs/reference/api/pandas.read_sql_query.html) or `polars` via [`polars.read_database`](https://pola-rs.github.io/polars/py-polars/html/reference/api/polars.read_database.html).\n",
    "2. Use [`%sqlcmd connect`](https://jupysql.ploomber.io/en/latest/api/magic-connect.html) cell magic to establish a connection, and then just use `%sql`."
   ]
  },
  {
   "cell_type": "code",
   "execution_count": 3,
   "id": "ed51eec6-33e9-44c5-8d30-f192cf0001e4",
   "metadata": {},
   "outputs": [
    {
     "data": {
      "application/vnd.jupyter.widget-view+json": {
       "model_id": "8f9de76a3e5b406eb26693103f74bde0",
       "version_major": 2,
       "version_minor": 0
      },
      "text/plain": [
       "ConnectorWidget(connections='[]', connections_templates='{\"DuckDB\": {\"driver\": \"duckdb\", \"fields\": [{\"id\": \"co…"
      ]
     },
     "execution_count": 3,
     "metadata": {},
     "output_type": "execute_result"
    }
   ],
   "source": [
    "%sqlcmd connect"
   ]
  },
  {
   "cell_type": "code",
   "execution_count": 4,
   "id": "4adf5617-7366-4edc-8a09-d2a864b8b8c1",
   "metadata": {},
   "outputs": [],
   "source": [
    "# option 1\n",
    "dbase_connection: psycopg2.extensions.connection = psycopg2.connect(\n",
    "    host='localhost',\n",
    "    port=5432,\n",
    "    dbname='dvdrental',\n",
    "    user='postgres',\n",
    "    password=os.environ['PG_PASSWORD'],\n",
    ")"
   ]
  },
  {
   "cell_type": "code",
   "execution_count": 13,
   "id": "2c2df014-0215-4e6e-b4c1-f4d854cf2718",
   "metadata": {},
   "outputs": [
    {
     "data": {
      "text/html": [
       "<span style=\"None\">Running query in &#x27;default&#x27;</span>"
      ],
      "text/plain": [
       "Running query in 'default'"
      ]
     },
     "metadata": {},
     "output_type": "display_data"
    },
    {
     "data": {
      "text/html": [
       "<span style=\"color: green\">16 rows affected.</span>"
      ],
      "text/plain": [
       "16 rows affected."
      ]
     },
     "metadata": {},
     "output_type": "display_data"
    },
    {
     "data": {
      "text/html": [
       "<table>\n",
       "    <thead>\n",
       "        <tr>\n",
       "            <th>name</th>\n",
       "        </tr>\n",
       "    </thead>\n",
       "    <tbody>\n",
       "        <tr>\n",
       "            <td>Action</td>\n",
       "        </tr>\n",
       "        <tr>\n",
       "            <td>Animation</td>\n",
       "        </tr>\n",
       "        <tr>\n",
       "            <td>Children</td>\n",
       "        </tr>\n",
       "        <tr>\n",
       "            <td>Classics</td>\n",
       "        </tr>\n",
       "        <tr>\n",
       "            <td>Comedy</td>\n",
       "        </tr>\n",
       "        <tr>\n",
       "            <td>Documentary</td>\n",
       "        </tr>\n",
       "        <tr>\n",
       "            <td>Drama</td>\n",
       "        </tr>\n",
       "        <tr>\n",
       "            <td>Family</td>\n",
       "        </tr>\n",
       "        <tr>\n",
       "            <td>Foreign</td>\n",
       "        </tr>\n",
       "        <tr>\n",
       "            <td>Games</td>\n",
       "        </tr>\n",
       "    </tbody>\n",
       "</table>\n",
       "<span style=\"font-style:italic;text-align:center;\">Truncated to <a href=\"https://jupysql.ploomber.io/en/latest/api/configuration.html#displaylimit\">displaylimit</a> of 10.</span>"
      ],
      "text/plain": [
       "+-------------+\n",
       "|     name    |\n",
       "+-------------+\n",
       "|    Action   |\n",
       "|  Animation  |\n",
       "|   Children  |\n",
       "|   Classics  |\n",
       "|    Comedy   |\n",
       "| Documentary |\n",
       "|    Drama    |\n",
       "|    Family   |\n",
       "|   Foreign   |\n",
       "|    Games    |\n",
       "+-------------+\n",
       "Truncated to displaylimit of 10."
      ]
     },
     "execution_count": 13,
     "metadata": {},
     "output_type": "execute_result"
    }
   ],
   "source": [
    "%sql SELECT name FROM category LIMIT 100;"
   ]
  },
  {
   "cell_type": "code",
   "execution_count": null,
   "id": "f9e7db0e-a291-4dfd-a19d-9e8a61889766",
   "metadata": {},
   "outputs": [],
   "source": []
  }
 ],
 "metadata": {
  "kernelspec": {
   "display_name": "Python 3 (ipykernel)",
   "language": "python",
   "name": "python3"
  },
  "language_info": {
   "codemirror_mode": {
    "name": "ipython",
    "version": 3
   },
   "file_extension": ".py",
   "mimetype": "text/x-python",
   "name": "python",
   "nbconvert_exporter": "python",
   "pygments_lexer": "ipython3",
   "version": "3.11.6"
  }
 },
 "nbformat": 4,
 "nbformat_minor": 5
}
